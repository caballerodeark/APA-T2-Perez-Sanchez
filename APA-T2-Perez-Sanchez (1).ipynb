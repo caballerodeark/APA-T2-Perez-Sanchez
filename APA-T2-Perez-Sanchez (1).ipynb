{
 "cells": [
  {
   "cell_type": "markdown",
   "id": "c85d1ca4-8c2f-4cce-b2dd-67c103b36f65",
   "metadata": {},
   "source": [
    "# Segunda tarea de APA 2023: Manejo de números primos\n",
    "\n",
    "## Nombre y Apellidos: Guillem Pérez Sánchez\n",
    "\n",
    "## Fichero `primos.py`\n",
    "\n",
    "- El alumno debe escribir el fichero `primos.py` que incorporará distintas funciones relacionadas con el manejo\n",
    "  de los números primos.\n",
    "\n",
    "- El fichero debe incluir una cadena de documentación que incluirá el nombre del alumno y los tests unitarios\n",
    "  de las funciones incluidas.\n",
    "\n",
    "- Cada función deberá incluir su propia cadena de documentación que indicará el cometido de la función, los\n",
    "  argumentos de la misma y la salida proporcionada.\n",
    "\n",
    "- Se valorará lo pythónico de la solución; en concreto, su claridad y sencillez, y el uso de los estándares marcados\n",
    "  por PEP-8. También se valorará su eficiencia computacional.\n",
    "\n",
    "### Determinación de la *primalidad* y descomposición de un número en factores primos\n",
    "\n",
    "Incluya en el fichero `primos.py` las tres funciones siguientes:\n",
    "\n",
    "- `esPrimo(numero)`   Devuelve `True` si su argumento es primo, y `False` si no lo es."
   ]
  },
  {
   "cell_type": "code",
   "execution_count": 62,
   "id": "a7dd4ba4-a892-44d0-90eb-264e76e68924",
   "metadata": {},
   "outputs": [],
   "source": [
    "def esPrimo(numero):\n",
    "    # Devuelve True si su argumento es primo, y False si no lo es.\n",
    "    if numero <= 1:\n",
    "        return False\n",
    "    for i in range(2, int(numero**0.5) + 1):\n",
    "        if numero % i == 0:\n",
    "            return False\n",
    "    return True"
   ]
  },
  {
   "cell_type": "markdown",
   "id": "141b1873-6add-4571-b2ad-93cac56faa74",
   "metadata": {},
   "source": [
    "- `primos(numero)`    Devuelve una **tupla** con todos los números primos menores que su argumento."
   ]
  },
  {
   "cell_type": "code",
   "execution_count": 61,
   "id": "10e88da1-346a-450a-a0b8-7fea5c38ce77",
   "metadata": {},
   "outputs": [],
   "source": [
    "def primos(numero): \n",
    "    # Devuelve una tupla con todos los números primos menores que su argumento. \n",
    "    resultado=[]\n",
    "    for i in range(1,numero-1):\n",
    "        if esPrimo(i):\n",
    "            resultado.append(i)  \n",
    "    return tuple(resultado)"
   ]
  },
  {
   "cell_type": "markdown",
   "id": "375d47d6-f4ef-4a9b-9411-562525f7fed2",
   "metadata": {},
   "source": [
    "- `descompon(numero)` Devuelve una **tupla** con la descomposición en factores primos de su argumento."
   ]
  },
  {
   "cell_type": "code",
   "execution_count": 60,
   "id": "c9d2eea8-63e1-4fb2-a63f-7b5d3fbe9f92",
   "metadata": {},
   "outputs": [],
   "source": [
    "def descompon(numero):\n",
    "    # Devuelve una tupla con la descomposición en factores primos de su argumento.\n",
    "    resultado = []\n",
    "    divisor = 2\n",
    "    while numero > 1:\n",
    "        if numero % divisor == 0:  # Si es divisible, es un factor primo.\n",
    "            resultado.append(divisor)\n",
    "            numero //= divisor  # Divide el número por el divisor.\n",
    "        else:\n",
    "            divisor += 1  # Prueba con el siguiente divisor.\n",
    "    return tuple(resultado)"
   ]
  },
  {
   "cell_type": "markdown",
   "id": "149897a1-01c8-4b6b-9650-dc6b9dd18c33",
   "metadata": {},
   "source": [
    "### Obtención del mínimo común múltiplo y el máximo común divisor\n",
    "\n",
    "Usando las tres funciones del apartado anterior (y cualquier otra que considere conveniente añadir), escriba otras\n",
    "dos que calculen el máximo común divisor y el mínimo común múltiplo de sus argumentos:\n",
    "\n",
    "- `mcm(numero1, numero2)`:  Devuelve el mínimo común múltiplo de sus argumentos."
   ]
  },
  {
   "cell_type": "code",
   "execution_count": 46,
   "id": "af83a311-db76-4deb-aee5-6af0c395c7a8",
   "metadata": {},
   "outputs": [],
   "source": [
    "def mcm(numero1, numero2): \n",
    "    # Devuelve el mínimo común múltiplo de sus argumentos.\n",
    "    mayor = max(numero1, numero2)  # Empezamos con el mayor de los dos números\n",
    "    while True:\n",
    "        if mayor % numero1 == 0 and mayor % numero2 == 0:\n",
    "            return mayor\n",
    "        mayor += 1"
   ]
  },
  {
   "cell_type": "markdown",
   "id": "5c177c57-fd0c-451f-a335-70bb4ba51e0d",
   "metadata": {},
   "source": [
    "- `mcd(numero1, numero2)`:  Devuelve el máximo común divisor de sus argumentos."
   ]
  },
  {
   "cell_type": "code",
   "execution_count": 49,
   "id": "1cd5099f-f49e-4d9e-ab8f-8cd80fe90916",
   "metadata": {},
   "outputs": [],
   "source": [
    "def mcd(numero1, numero2): \n",
    "    # Devuelve el máximo común divisor de sus argumentos.\n",
    "    while numero2 != 0:\n",
    "        numero1, numero2 = numero2, numero1 % numero2\n",
    "    return numero1"
   ]
  },
  {
   "cell_type": "markdown",
   "id": "689f645b-83f9-4749-8912-65441c2d7ec3",
   "metadata": {},
   "source": [
    "Estas dos funciones deben cumplir las condiciones siguientes:\n",
    "\n",
    "- Aunque se trate de una solución sub-óptima, en ambos casos deberá partirse de la descomposición en factores\n",
    "  primos de los argumentos usando las funciones del apartado anterior.\n",
    "\n",
    "- Aunque también sea sub-óptimo desde el punto de vista de la programación, ninguna de las dos funciones puede\n",
    "  depender de la otra; cada una debe programarse por separado.\n",
    "\n",
    "### Obtención del mínimo común múltiplo y el máximo común divisor para un número arbitrario de argumentos\n",
    "\n",
    "Escriba las funciones `mcmN()` y `mcdN()`, que calculan el mínimo común múltiplo y el máximo común divisor para un\n",
    "número arbitrario de argumentos:\n",
    "\n",
    "- `mcm(*numeros)`:  Devuelve el mínimo común múltiplo de sus argumentos."
   ]
  },
  {
   "cell_type": "code",
   "execution_count": 58,
   "id": "316a4855-8cfb-43ac-8909-91cd2df0f64f",
   "metadata": {},
   "outputs": [],
   "source": [
    "def mcmN(*numeros): \n",
    "    # Devuelve el mínimo común múltiplo de sus argumentos.\n",
    "    resultado = 1\n",
    "    for num in numeros:\n",
    "        resultado = mcm(resultado,num)\n",
    "    return resultado"
   ]
  },
  {
   "cell_type": "markdown",
   "id": "5fba9bed-bd14-4435-97b2-945a65ba918b",
   "metadata": {},
   "source": [
    "- `mcd(*numeros)`:  Devuelve el máximo común divisor de sus argumentos."
   ]
  },
  {
   "cell_type": "code",
   "execution_count": 59,
   "id": "b3057bc5-af64-4f64-9786-ff9904db0810",
   "metadata": {},
   "outputs": [],
   "source": [
    "def mcdN(*numeros): \n",
    "    # Devuelve el máximo común divisor de sus argumentos.  \n",
    "    resultado = numeros[0]  # Inicializamos con el primer número\n",
    "    for num in numeros[1:]:  # Iteramos desde el segundo número en adelante\n",
    "        resultado = mcd(resultado, num)\n",
    "    return resultado"
   ]
  },
  {
   "cell_type": "markdown",
   "id": "cc8a30a8-8a6f-4209-9352-1b8f2ee7397b",
   "metadata": {},
   "source": [
    "### Tests unitarios\n",
    "\n",
    "La cadena de documentación del fichero debe incluir los tests unitarios de las cinco funciones. En concreto, deberán\n",
    "comprobarse las siguientes condiciones:\n",
    "\n",
    "- `esPrimo(numero)`:  Al ejecutar `[ numero for numero in range(2, 50) if esPrimo(numero) ]`, la salida debe ser\n",
    "                      `[2, 3, 5, 7, 11, 13, 17, 19, 23, 29, 31, 37, 41, 43, 47]`."
   ]
  },
  {
   "cell_type": "code",
   "execution_count": 39,
   "id": "b3176fb0-b107-4b25-b9dc-a942b20b65f6",
   "metadata": {},
   "outputs": [
    {
     "data": {
      "text/plain": [
       "[2, 3, 5, 7, 11, 13, 17, 19, 23, 29, 31, 37, 41, 43, 47]"
      ]
     },
     "execution_count": 39,
     "metadata": {},
     "output_type": "execute_result"
    }
   ],
   "source": [
    "[ numero for numero in range(2, 50) if esPrimo(numero) ]"
   ]
  },
  {
   "cell_type": "markdown",
   "id": "ffcd0b51-2571-4cce-b144-b8cd6f7941ad",
   "metadata": {},
   "source": [
    "- `primos(numeor)`: Al ejecutar `primos(50)`, la salida debe ser `(2, 3, 5, 7, 11, 13, 17, 19, 23, 29, 31, 37, 41, 43, 47)`."
   ]
  },
  {
   "cell_type": "code",
   "execution_count": 40,
   "id": "37aa384c-2082-4d51-9b86-06bb8ce4ccd0",
   "metadata": {},
   "outputs": [
    {
     "data": {
      "text/plain": [
       "(2, 3, 5, 7, 11, 13, 17, 19, 23, 29, 31, 37, 41, 43, 47)"
      ]
     },
     "execution_count": 40,
     "metadata": {},
     "output_type": "execute_result"
    }
   ],
   "source": [
    "primos(50)"
   ]
  },
  {
   "cell_type": "markdown",
   "id": "e42bb72e-552c-40ac-914a-c332a329358a",
   "metadata": {},
   "source": [
    "- `descompon(numero)`: Al ejecutar `descompon(36 * 175 * 143)`, la salida debe ser `(2, 2, 3, 3, 5, 5, 7, 11, 13)`."
   ]
  },
  {
   "cell_type": "code",
   "execution_count": 41,
   "id": "5d6d5df4-0e26-4c65-9318-edcb4e005553",
   "metadata": {},
   "outputs": [
    {
     "data": {
      "text/plain": [
       "(2, 2, 3, 3, 5, 5, 7, 11, 13)"
      ]
     },
     "execution_count": 41,
     "metadata": {},
     "output_type": "execute_result"
    }
   ],
   "source": [
    "descompon(36 * 175 * 143)"
   ]
  },
  {
   "cell_type": "markdown",
   "id": "67f9dcce-2760-4214-831d-f16c4b8abdbe",
   "metadata": {},
   "source": [
    "- `mcm(num1, num2)`: Al ejecutar `mcm(90, 14)`, la salida debe ser `630`."
   ]
  },
  {
   "cell_type": "code",
   "execution_count": 47,
   "id": "2627c197-3db3-4d19-86f6-d130bb60b1ec",
   "metadata": {},
   "outputs": [
    {
     "data": {
      "text/plain": [
       "630"
      ]
     },
     "execution_count": 47,
     "metadata": {},
     "output_type": "execute_result"
    }
   ],
   "source": [
    "mcm(90,14)"
   ]
  },
  {
   "cell_type": "markdown",
   "id": "239873e0-62ec-4d44-9173-87ffcafe7b61",
   "metadata": {},
   "source": [
    "- `mcd(num1, num2)`: Al ejecutar `mcd(924, 780)`, la salida debe ser `12`.\n"
   ]
  },
  {
   "cell_type": "code",
   "execution_count": 50,
   "id": "e420c5fb-0ab5-4c24-9b12-5d11c28adf7c",
   "metadata": {},
   "outputs": [
    {
     "data": {
      "text/plain": [
       "12"
      ]
     },
     "execution_count": 50,
     "metadata": {},
     "output_type": "execute_result"
    }
   ],
   "source": [
    "mcd(924,780)"
   ]
  },
  {
   "cell_type": "markdown",
   "id": "9052200a-a17b-40a8-a99f-4d9ed6b457b7",
   "metadata": {},
   "source": [
    "- `mcmN(numeros)`: Al ejecutar `mcm(42, 60, 70, 63)`, la salida debe ser `1260`."
   ]
  },
  {
   "cell_type": "code",
   "execution_count": 51,
   "id": "e6c5e524-10cc-412d-bda9-1aea5d722180",
   "metadata": {},
   "outputs": [
    {
     "data": {
      "text/plain": [
       "1260"
      ]
     },
     "execution_count": 51,
     "metadata": {},
     "output_type": "execute_result"
    }
   ],
   "source": [
    "mcmN(42,60,70,63)"
   ]
  },
  {
   "cell_type": "markdown",
   "id": "fc719036-d79e-4094-abf7-cc02734fb11c",
   "metadata": {},
   "source": [
    "- `mcdN(numeros)`: Al ejecutar `mcd(840, 630, 1050, 1470)`, la salida debe ser `210`."
   ]
  },
  {
   "cell_type": "code",
   "execution_count": 57,
   "id": "389317f1-1ce8-4414-aff5-78ac92b05a81",
   "metadata": {},
   "outputs": [
    {
     "data": {
      "text/plain": [
       "210"
      ]
     },
     "execution_count": 57,
     "metadata": {},
     "output_type": "execute_result"
    }
   ],
   "source": [
    "mcdN(840,630,1050,1470)"
   ]
  },
  {
   "cell_type": "markdown",
   "id": "1b2428b6-6def-485a-a86c-d80164e9ebd3",
   "metadata": {},
   "source": [
    "### Entrega\n",
    "\n",
    "#### Ejecución de los tests unitarios\n",
    "\n",
    "Inserte a continuación una captura de pantalla que muestre el resultado de ejecutar el fichero `primos.py` con la opción\n",
    "*verbosa*, de manera que se muestre el resultado de la ejecución de los tests unitarios.\n",
    "\n",
    "![Resultado](ImgRes.png)\n",
    "\n",
    "#### Código desarrollado\n",
    "\n",
    "Inserte a continuación el contenido del fichero `primos.py` usando los comandos necesarios para que se realice el\n",
    "realce sintáctico en Python del mismo.\n",
    "\n",
    "```python\n",
    "# primos.py\n",
    "# Guillem Perez Sanchez QP 2024-25\n",
    "\n",
    "# APA-T2: Manejo de numeros primos\n",
    "\n",
    "# Determinación de la primalidad y descomposición de un número en factores primos\n",
    "\n",
    "def esPrimo(numero):\n",
    "    # Devuelve True si su argumento es primo, y False si no lo es.\n",
    "    if numero <= 1:\n",
    "        return False\n",
    "    for i in range(2, int(numero**0.5) + 1):\n",
    "        if numero % i == 0:\n",
    "            return False\n",
    "    return True\n",
    "\n",
    "def primos(numero): \n",
    "    # Devuelve una tupla con todos los números primos menores que su argumento.\n",
    "    resultado=[]\n",
    "    for i in range(1,numero-1):\n",
    "        if esPrimo(i):\n",
    "            resultado.append(i)\n",
    "    return tuple(resultado)\n",
    "\n",
    "def descompon(numero):\n",
    "    # Devuelve una tupla con la descomposición en factores primos de su argumento.\n",
    "    resultado = []\n",
    "    divisor = 2\n",
    "    while numero > 1:\n",
    "        if numero % divisor == 0:  # Si es divisible, es un factor primo.\n",
    "            resultado.append(divisor)\n",
    "            numero //= divisor  # Divide el número por el divisor.\n",
    "        else:\n",
    "            divisor += 1  # Prueba con el siguiente divisor.\n",
    "    return tuple(resultado)\n",
    "\n",
    "# Obtención del mínimo común múltiplo y el máximo común divisor\n",
    "\n",
    "\"\"\"\n",
    "Estas dos funciones deben cumplir las condiciones siguientes:\n",
    "- Aunque se trate de una solución sub-óptima, en ambos casos \n",
    "  deberá partirse de la descomposición en factores primos de \n",
    "  los argumentos usando las funciones del apartado anterior.\n",
    "- Aunque también sea sub-óptimo desde el punto de vista de la \n",
    "  programación, ninguna de las dos funciones puede depender de \n",
    "  la otra; cada una debe programarse por separado.\n",
    "\"\"\"\n",
    "\n",
    "def mcm(numero1, numero2): \n",
    "    # Devuelve el mínimo común múltiplo de sus argumentos.\n",
    "    mayor = max(numero1, numero2)  # Empezamos con el mayor de los dos números\n",
    "    while True:\n",
    "        if mayor % numero1 == 0 and mayor % numero2 == 0:\n",
    "            return mayor\n",
    "        mayor += 1\n",
    "\n",
    "def mcd(numero1, numero2): \n",
    "    # Devuelve el máximo común divisor de sus argumentos.\n",
    "    while numero2 != 0:\n",
    "        numero1, numero2 = numero2, numero1 % numero2\n",
    "    return numero1\n",
    "\n",
    "# Obtención del mínimo común múltiplo y el máximo común divisor para un número arbitrario de argumentos\n",
    "\n",
    "def mcmN(*numeros): \n",
    "    # Devuelve el mínimo común múltiplo de sus argumentos.\n",
    "    resultado = 1\n",
    "    for num in numeros:\n",
    "        resultado = mcm(resultado,num)\n",
    "    return resultado\n",
    "\n",
    "def mcdN(*numeros): \n",
    "    # Devuelve el máximo común divisor de sus argumentos.  \n",
    "    resultado = numeros[0]  # Inicializamos con el primer número\n",
    "    for num in numeros[1:]:  # Iteramos desde el segundo número en adelante\n",
    "        resultado = mcd(resultado, num)\n",
    "    return resultado\n",
    "\n",
    "# TESTS\n",
    "\n",
    "# esPrimo(numero): Al ejecutar [ numero for numero in range(2, 50) if esPrimo(numero) ], la salida debe ser [2, 3, 5, 7, 11, 13, 17, 19, 23, 29, 31, 37, 41, 43, 47].\n",
    "\n",
    "ans1 = [ numero for numero in range(2, 50) if esPrimo(numero) ]\n",
    "\n",
    "# primos(numeor): Al ejecutar primos(50), la salida debe ser (2, 3, 5, 7, 11, 13, 17, 19, 23, 29, 31, 37, 41, 43, 47).\n",
    "\n",
    "ans2 = primos(50)\n",
    "\n",
    "# descompon(numero): Al ejecutar descompon(36 * 175 * 143), la salida debe ser (2, 2, 3, 3, 5, 5, 7, 11, 13).\n",
    "\n",
    "ans3 = descompon(36 * 175 * 143)\n",
    "\n",
    "# mcm(num1, num2): Al ejecutar mcm(90, 14), la salida debe ser 630.\n",
    "\n",
    "ans4 = mcm(90,14)\n",
    "\n",
    "# mcd(num1, num2): Al ejecutar mcd(924, 780), la salida debe ser 12.\n",
    "\n",
    "ans5 = mcd(924,780)\n",
    "\n",
    "# mcmN(numeros): Al ejecutar mcm(42, 60, 70, 63), la salida debe ser 1260.\n",
    "\n",
    "ans6 = mcmN(42,60,70,63)\n",
    "\n",
    "# mcdN(numeros): Al ejecutar mcd(840, 630, 1050, 1470), la salida debe ser 210.\n",
    "\n",
    "ans7 = mcdN(840,630,1050,1470)\n",
    "\n",
    "print(ans1)\n",
    "print(ans2)\n",
    "print(ans3)\n",
    "print(ans4)\n",
    "print(ans5)\n",
    "print(ans6)\n",
    "print(ans7)\n",
    "```\n",
    "#### Subida del resultado al repositorio GitHub ¿y *pull-request*?\n",
    "\n",
    "El fichero `primos.py`, la imagen con la ejecución de los tests unitarios y este mismo fichero, `README.md`, deberán\n",
    "subirse al repositorio GitHub mediante la orden `git push`. Si los profesores de la asignatura consiguen montar el\n",
    "sistema a tiempo, la entrega se formalizará realizando un *pull-request* al propietario del repositorio original.\n",
    "\n",
    "El fichero `README.md` deberá respetar las reglas de los ficheros Markdown y visualizarse correctamente en el repositorio,\n",
    "incluyendo la imagen con la ejecución de los tests unitarios y el realce sintáctico del código fuente insertado."
   ]
  }
 ],
 "metadata": {
  "kernelspec": {
   "display_name": "Python 3 (ipykernel)",
   "language": "python",
   "name": "python3"
  },
  "language_info": {
   "codemirror_mode": {
    "name": "ipython",
    "version": 3
   },
   "file_extension": ".py",
   "mimetype": "text/x-python",
   "name": "python",
   "nbconvert_exporter": "python",
   "pygments_lexer": "ipython3",
   "version": "3.9.6"
  }
 },
 "nbformat": 4,
 "nbformat_minor": 5
}
